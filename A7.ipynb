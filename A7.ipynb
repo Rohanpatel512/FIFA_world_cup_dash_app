{
 "cells": [
  {
   "cell_type": "code",
   "execution_count": 1,
   "id": "1c9764f0-f5ed-43e5-8ec2-87120a3a3740",
   "metadata": {},
   "outputs": [],
   "source": [
    "# Import Libraries\n",
    "import dash \n",
    "from dash import Dash, html, dcc, callback, Output, Input\n",
    "import pandas as pd \n",
    "import plotly.express as px\n",
    "import numpy as np "
   ]
  },
  {
   "cell_type": "code",
   "execution_count": 2,
   "id": "5018ee7b-eeb2-47a0-b481-75f09fef2458",
   "metadata": {},
   "outputs": [],
   "source": [
    "dataset = pd.read_csv(\"FIFA_data.csv\", delimiter=';')"
   ]
  },
  {
   "cell_type": "code",
   "execution_count": 16,
   "id": "455b64f1-a632-45cd-b94a-ddd02722d25b",
   "metadata": {
    "scrolled": true
   },
   "outputs": [
    {
     "data": {
      "text/html": [
       "\n",
       "        <iframe\n",
       "            width=\"100%\"\n",
       "            height=\"650\"\n",
       "            src=\"http://127.0.0.1:8050/\"\n",
       "            frameborder=\"0\"\n",
       "            allowfullscreen\n",
       "            \n",
       "        ></iframe>\n",
       "        "
      ],
      "text/plain": [
       "<IPython.lib.display.IFrame at 0x11acd2b40>"
      ]
     },
     "metadata": {},
     "output_type": "display_data"
    }
   ],
   "source": [
    "app = dash.Dash()\n",
    "\n",
    "countries = np.concatenate([np.array(dataset['Winners']), np.array(dataset['Runners-up'])])\n",
    "countries = np.unique(countries)\n",
    "\n",
    "world = px.data.gapminder()[['country']].drop_duplicates()\n",
    "\n",
    "world['Won'] = world['country'].apply(lambda c: 'Has Won' if c in np.array(dataset['Winners'].unique()) else 'Not Won')\n",
    "\n",
    "years = np.array(dataset.loc[::, 'Year'])\n",
    "\n",
    "figure = px.choropleth(\n",
    "    world,\n",
    "    locations=\"country\",\n",
    "    locationmode=\"country names\",\n",
    "    color=\"Won\",\n",
    "    scope=\"world\"\n",
    ")\n",
    "\n",
    "\n",
    "app.layout = html.Div([\n",
    "    html.H1(\"FIFA World Cup Dashboard\", style={'textAlign':'center'}),\n",
    "    html.Div([\n",
    "        dcc.Graph(figure=figure)\n",
    "    ]),\n",
    "    html.Div([\n",
    "        html.Label(\"Select a Country\"),\n",
    "        dcc.Dropdown(countries, countries[0], id='country_dropdown'),\n",
    "\n",
    "        html.Label(\"Select a Year\"),\n",
    "        dcc.Dropdown(years, years[0], id='year_dropdown')\n",
    "    ]),\n",
    "\n",
    "    html.Div([\n",
    "        html.P(id=\"won_world_cup\", style={'fontFamily':'Courier New, monospace', 'fontSize':'30px'}),\n",
    "        html.P(id=\"year_winner_runnerup\", style={'fontFamily': 'Courier New, monospace','fontSize':'30px'})\n",
    "    ])\n",
    "])\n",
    "\n",
    "\n",
    "@callback(\n",
    "    [Output('won_world_cup', 'children'),\n",
    "     Output('year_winner_runnerup', 'children')],\n",
    "    [Input('country_dropdown', 'value'),\n",
    "     Input('year_dropdown', 'value')]\n",
    ")\n",
    "\n",
    "def get_world_cup_info(country, year):\n",
    "    dataset = pd.read_csv('FIFA_data.csv', delimiter=';')\n",
    "    winner_frequency = dataset['Winners'].value_counts()\n",
    "\n",
    "    if country in winner_frequency.keys():\n",
    "        frequency = winner_frequency[country]\n",
    "    else:\n",
    "        frequency = 0\n",
    "\n",
    "    row = dataset.loc[dataset.loc[::, 'Year'] == year]\n",
    "    index = row['ID']\n",
    "    winner = np.array(row['Winners'][index])\n",
    "    runnerup = np.array(row['Runners-up'][index])\n",
    "\n",
    "    country_won = f\"{country} won {frequency} times.\"\n",
    "    winner_runnerup = f\"{year} Winner: {winner[0]}, Runner-up: {runnerup[0]}\"\n",
    "\n",
    "    return country_won, winner_runnerup\n",
    "    \n",
    "\n",
    "if __name__ == \"__main__\":\n",
    "    app.run()\n",
    "\n"
   ]
  },
  {
   "cell_type": "code",
   "execution_count": null,
   "id": "db86b39b-8a9b-445f-9937-584c4d0cca13",
   "metadata": {},
   "outputs": [],
   "source": []
  }
 ],
 "metadata": {
  "kernelspec": {
   "display_name": "Python 3 (ipykernel)",
   "language": "python",
   "name": "python3"
  },
  "language_info": {
   "codemirror_mode": {
    "name": "ipython",
    "version": 3
   },
   "file_extension": ".py",
   "mimetype": "text/x-python",
   "name": "python",
   "nbconvert_exporter": "python",
   "pygments_lexer": "ipython3",
   "version": "3.12.5"
  }
 },
 "nbformat": 4,
 "nbformat_minor": 5
}
